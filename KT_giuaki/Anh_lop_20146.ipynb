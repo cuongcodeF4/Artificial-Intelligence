{
  "nbformat": 4,
  "nbformat_minor": 0,
  "metadata": {
    "colab": {
      "provenance": [],
      "gpuType": "T4",
      "mount_file_id": "1OUghmwUZ63vuuJ9gKnJL-nQVZTqlWbTv",
      "authorship_tag": "ABX9TyNXEMdDUWQnZOrpekek4jiI",
      "include_colab_link": true
    },
    "kernelspec": {
      "name": "python3",
      "display_name": "Python 3"
    },
    "language_info": {
      "name": "python"
    },
    "accelerator": "GPU",
    "gpuClass": "standard"
  },
  "cells": [
    {
      "cell_type": "markdown",
      "metadata": {
        "id": "view-in-github",
        "colab_type": "text"
      },
      "source": [
        "<a href=\"https://colab.research.google.com/github/cuongcodeF4/Artificial-Intelligence/blob/main/KT_giuaki/Anh_lop_20146.ipynb\" target=\"_parent\"><img src=\"https://colab.research.google.com/assets/colab-badge.svg\" alt=\"Open In Colab\"/></a>"
      ]
    },
    {
      "cell_type": "code",
      "execution_count": 41,
      "metadata": {
        "id": "9TLvY9pJ7qIk"
      },
      "outputs": [],
      "source": [
        "from os import listdir\n",
        "from numpy import asarray\n",
        "from numpy import save\n",
        "from keras.utils.image_utils import img_to_array \n",
        "from keras.utils import load_img \n",
        "from numpy.lib.npyio import load\n",
        "import numpy as np"
      ]
    },
    {
      "cell_type": "code",
      "source": [
        "folder = '/content/drive/MyDrive/Colab Notebooks/Anh_lop_201461/Image/'\n",
        "photos, labels = list(), list()\n",
        "for file in listdir(folder):\n",
        "  output = 0.0\n",
        "  if file.startswith('Bang'):\n",
        "    output = 1.0   \n",
        "  if file.startswith('Binh_A'):\n",
        "    output = 2.0    \n",
        "  if file.startswith('Binh_B'):\n",
        "    output =  3.0   \n",
        "  if file.startswith('Chi'):\n",
        "    output =   4.0   \n",
        "  if file.startswith('Chuong'):\n",
        "    output =   5.0   \n",
        "  if file.startswith('Cuong'):\n",
        "    output =   6.0  \n",
        "  if file.startswith('Dan'):\n",
        "    output =   7.0     \n",
        "  if file.startswith('Dang'):\n",
        "    output =   8.0     \n",
        "  if file.startswith('Duy'):\n",
        "    output =   9.0   \n",
        "  if file.startswith('Hieu'):\n",
        "    output =   10.0  \n",
        "  if file.startswith('Hoan'):\n",
        "    output =   11.0   \n",
        "  if file.startswith('Huy_A'):\n",
        "    output =   12.0   \n",
        "  if file.startswith('Huy_B'):\n",
        "    output =   13.0   \n",
        "  if file.startswith('Khanh'):\n",
        "    output =   14.0  \n",
        "  if file.startswith('Loc'):\n",
        "    output =   15.0   \n",
        "  if file.startswith('Nam'):\n",
        "    output =   16.0  \n",
        "  if file.startswith('Nhu'):\n",
        "    output =   17.0  \n",
        "  if file.startswith('Phi'):\n",
        "    output =   18.0   \n",
        "  if file.startswith('Phong'):\n",
        "    output =   19.0   \n",
        "  if file.startswith('Quang'):\n",
        "    output =   20.0  \n",
        "  if file.startswith('Thang'):\n",
        "    output =   21.0   \n",
        "  if file.startswith('Tri_A'):\n",
        "    output =   22.0   \n",
        "  if file.startswith('Tri_B'):\n",
        "    output =   23.0   \n",
        "  if file.startswith('Tu'):\n",
        "    output =   24.0   \n",
        "  if file.startswith('Tuan'):\n",
        "    output =   25.0    \n",
        "  if file.startswith('Tung'):\n",
        "    output =   26.0   \n",
        "  if file.startswith('Viet'):\n",
        "    output =   27.0   \n",
        "  if file.startswith('Vinh'):\n",
        "    output =   28.0      \n",
        "  photo = load_img (folder+file, target_size= (32,32))\n",
        "  photo = img_to_array (photo)\n",
        "  photos.append(photo)\n",
        "  labels.append(output)\n",
        "photos = asarray(photos)\n",
        "labels = asarray(labels)\n",
        "save('/content/drive/MyDrive/Colab Notebooks/Anh_lop_201461/Anh_201461_photo.npy', photos)\n",
        "save('/content/drive/MyDrive/Colab Notebooks/Anh_lop_201461/Anh_201461_label.npy', labels)"
      ],
      "metadata": {
        "id": "BJ_i7V368J6c"
      },
      "execution_count": 42,
      "outputs": []
    },
    {
      "cell_type": "code",
      "source": [
        "photo = np.load('/content/drive/MyDrive/Colab Notebooks/Anh_lop_201461/Anh_201461_photo.npy')\n",
        "label = np.load('/content/drive/MyDrive/Colab Notebooks/Anh_lop_201461/Anh_201461_label.npy')"
      ],
      "metadata": {
        "id": "VohxIFmc9avx"
      },
      "execution_count": 43,
      "outputs": []
    },
    {
      "cell_type": "code",
      "source": [
        "split_sample = int(0.1*len(photo))\n",
        "(x_train,y_train) = photo[split_sample:],label[split_sample:]\n",
        "(x_test,y_test)= photo[:split_sample],label[:split_sample]"
      ],
      "metadata": {
        "id": "WHIYBm_q9bPI"
      },
      "execution_count": 44,
      "outputs": []
    },
    {
      "cell_type": "code",
      "source": [
        "x_train.shape"
      ],
      "metadata": {
        "colab": {
          "base_uri": "https://localhost:8080/"
        },
        "id": "k0h10ZMD-07s",
        "outputId": "8dc69e2d-b785-42e8-c192-967722ae5177"
      },
      "execution_count": 45,
      "outputs": [
        {
          "output_type": "execute_result",
          "data": {
            "text/plain": [
              "(1607, 32, 32, 3)"
            ]
          },
          "metadata": {},
          "execution_count": 45
        }
      ]
    },
    {
      "cell_type": "code",
      "source": [
        "x_test.shape"
      ],
      "metadata": {
        "colab": {
          "base_uri": "https://localhost:8080/"
        },
        "id": "VbVINKCs-2R-",
        "outputId": "5757a5f7-418e-4fe0-dd2a-198d6391ddf5"
      },
      "execution_count": 46,
      "outputs": [
        {
          "output_type": "execute_result",
          "data": {
            "text/plain": [
              "(178, 32, 32, 3)"
            ]
          },
          "metadata": {},
          "execution_count": 46
        }
      ]
    },
    {
      "cell_type": "code",
      "source": [
        "x_train = x_train.reshape(1607,32,32,3)\n",
        "x_test = x_test.reshape(178,32,32,3)\n",
        "x_train = x_train.astype('float32')/255\n",
        "x_test = x_test.astype('float32')/255"
      ],
      "metadata": {
        "id": "JQvZmrgR-3jo"
      },
      "execution_count": 47,
      "outputs": []
    },
    {
      "cell_type": "code",
      "source": [
        "# chuyển đổi các nhãn lớp của dữ liệu huấn luyện và kiểm tra thành các vectơ one-hot encoding.\n",
        "from keras.utils import to_categorical\n",
        "y_train = to_categorical(y_train,29)\n",
        "y_test  = to_categorical(y_test,29)"
      ],
      "metadata": {
        "id": "RVNAQIet_C6t"
      },
      "execution_count": 48,
      "outputs": []
    },
    {
      "cell_type": "code",
      "source": [
        "from keras.models import Sequential , Model\n",
        "from keras.layers import Dense , Flatten, Dropout, Conv2D, MaxPooling2D ,Normalization,Input\n",
        "from keras.optimizers import Adam "
      ],
      "metadata": {
        "id": "e0SItSbV_I-G"
      },
      "execution_count": 49,
      "outputs": []
    },
    {
      "cell_type": "code",
      "source": [
        "batch_size = 100  # số lượng học\n",
        "epochs = 40      #số lần học\n",
        "classes = 29"
      ],
      "metadata": {
        "id": "AtUaOm3-_Ja1"
      },
      "execution_count": 50,
      "outputs": []
    },
    {
      "cell_type": "code",
      "source": [
        "model=Sequential()\n",
        "model.add(Conv2D(32,kernel_size=(3,3),activation ='linear',input_shape= (32,32,3),padding= 'same'))    # 32:số lần tích chập, (3,3): kích thước bộ lọc\n",
        "\n",
        "from keras.layers import LeakyReLU\n",
        "model.add(LeakyReLU(alpha= 0.1))\n",
        "model.add(MaxPooling2D((2,2), padding= 'same'))\n",
        "\n",
        "model.add(Conv2D(64,(3,3), activation= 'linear', padding= 'same'))\n",
        "model.add(LeakyReLU(alpha= 0.1))\n",
        "model.add(MaxPooling2D((2,2), padding= 'same'))\n",
        "\n",
        "model.add(Conv2D(128,(3,3), activation= 'linear', padding= 'same'))\n",
        "model.add(LeakyReLU(alpha= 0.1))\n",
        "model.add(MaxPooling2D((2,2), padding= 'same'))\n",
        "\n",
        "from keras.backend import categorical_crossentropy\n",
        "from keras.losses import categorical_crossentropy\n",
        "model.add(Flatten())  #Tín hiệu vào là tấm ảnh \n",
        "model.add(Dense(2048, activation= 'linear'))\n",
        "model.add(LeakyReLU(alpha= 0.1))\n",
        "model.add(Dense(1024, activation= 'linear'))\n",
        "model.add(LeakyReLU(alpha= 0.1))\n",
        "model.add(Dense(128,activation='linear'))   #Đi qua 128 lớp\n",
        "model.add(LeakyReLU(alpha=0.1))\n",
        "model.add(Dense(classes,activation='softmax'))\n",
        "model.summary()"
      ],
      "metadata": {
        "colab": {
          "base_uri": "https://localhost:8080/"
        },
        "id": "L5B6tdRe_Lxb",
        "outputId": "eb1a84d5-0663-4662-ab4f-95e609dc850b"
      },
      "execution_count": 51,
      "outputs": [
        {
          "output_type": "stream",
          "name": "stdout",
          "text": [
            "Model: \"sequential_2\"\n",
            "_________________________________________________________________\n",
            " Layer (type)                Output Shape              Param #   \n",
            "=================================================================\n",
            " conv2d_6 (Conv2D)           (None, 32, 32, 32)        896       \n",
            "                                                                 \n",
            " leaky_re_lu_12 (LeakyReLU)  (None, 32, 32, 32)        0         \n",
            "                                                                 \n",
            " max_pooling2d_6 (MaxPooling  (None, 16, 16, 32)       0         \n",
            " 2D)                                                             \n",
            "                                                                 \n",
            " conv2d_7 (Conv2D)           (None, 16, 16, 64)        18496     \n",
            "                                                                 \n",
            " leaky_re_lu_13 (LeakyReLU)  (None, 16, 16, 64)        0         \n",
            "                                                                 \n",
            " max_pooling2d_7 (MaxPooling  (None, 8, 8, 64)         0         \n",
            " 2D)                                                             \n",
            "                                                                 \n",
            " conv2d_8 (Conv2D)           (None, 8, 8, 128)         73856     \n",
            "                                                                 \n",
            " leaky_re_lu_14 (LeakyReLU)  (None, 8, 8, 128)         0         \n",
            "                                                                 \n",
            " max_pooling2d_8 (MaxPooling  (None, 4, 4, 128)        0         \n",
            " 2D)                                                             \n",
            "                                                                 \n",
            " flatten_2 (Flatten)         (None, 2048)              0         \n",
            "                                                                 \n",
            " dense_8 (Dense)             (None, 2048)              4196352   \n",
            "                                                                 \n",
            " leaky_re_lu_15 (LeakyReLU)  (None, 2048)              0         \n",
            "                                                                 \n",
            " dense_9 (Dense)             (None, 1024)              2098176   \n",
            "                                                                 \n",
            " leaky_re_lu_16 (LeakyReLU)  (None, 1024)              0         \n",
            "                                                                 \n",
            " dense_10 (Dense)            (None, 128)               131200    \n",
            "                                                                 \n",
            " leaky_re_lu_17 (LeakyReLU)  (None, 128)               0         \n",
            "                                                                 \n",
            " dense_11 (Dense)            (None, 29)                3741      \n",
            "                                                                 \n",
            "=================================================================\n",
            "Total params: 6,522,717\n",
            "Trainable params: 6,522,717\n",
            "Non-trainable params: 0\n",
            "_________________________________________________________________\n"
          ]
        }
      ]
    },
    {
      "cell_type": "code",
      "source": [],
      "metadata": {
        "id": "yE05az45_ltL"
      },
      "execution_count": 51,
      "outputs": []
    },
    {
      "cell_type": "code",
      "source": [
        "model.compile(loss= categorical_crossentropy,optimizer= Adam(),metrics=['accuracy'])\n",
        "train = model.fit(x_train,y_train,batch_size= batch_size,epochs=epochs,verbose =1)      # verbose=1,Hiển thị giá trị train, chỉ xuất hiện 1 lần rồi biến mất"
      ],
      "metadata": {
        "colab": {
          "base_uri": "https://localhost:8080/"
        },
        "id": "cPGgum2-_oa5",
        "outputId": "17dd08ab-a65d-4232-ad75-258a4f78508a"
      },
      "execution_count": 52,
      "outputs": [
        {
          "output_type": "stream",
          "name": "stdout",
          "text": [
            "Epoch 1/40\n",
            "17/17 [==============================] - 1s 11ms/step - loss: 2.8043 - accuracy: 0.2172\n",
            "Epoch 2/40\n",
            "17/17 [==============================] - 0s 10ms/step - loss: 0.8424 - accuracy: 0.7474\n",
            "Epoch 3/40\n",
            "17/17 [==============================] - 0s 9ms/step - loss: 0.1820 - accuracy: 0.9502\n",
            "Epoch 4/40\n",
            "17/17 [==============================] - 0s 9ms/step - loss: 0.1582 - accuracy: 0.9484\n",
            "Epoch 5/40\n",
            "17/17 [==============================] - 0s 8ms/step - loss: 0.0508 - accuracy: 0.9863\n",
            "Epoch 6/40\n",
            "17/17 [==============================] - 0s 9ms/step - loss: 0.0271 - accuracy: 0.9919\n",
            "Epoch 7/40\n",
            "17/17 [==============================] - 0s 8ms/step - loss: 0.0304 - accuracy: 0.9907\n",
            "Epoch 8/40\n",
            "17/17 [==============================] - 0s 9ms/step - loss: 0.0305 - accuracy: 0.9888\n",
            "Epoch 9/40\n",
            "17/17 [==============================] - 0s 8ms/step - loss: 0.1045 - accuracy: 0.9782\n",
            "Epoch 10/40\n",
            "17/17 [==============================] - 0s 8ms/step - loss: 0.0291 - accuracy: 0.9894\n",
            "Epoch 11/40\n",
            "17/17 [==============================] - 0s 9ms/step - loss: 0.0040 - accuracy: 0.9994\n",
            "Epoch 12/40\n",
            "17/17 [==============================] - 0s 8ms/step - loss: 0.0097 - accuracy: 0.9956\n",
            "Epoch 13/40\n",
            "17/17 [==============================] - 0s 8ms/step - loss: 0.0025 - accuracy: 0.9994\n",
            "Epoch 14/40\n",
            "17/17 [==============================] - 0s 9ms/step - loss: 6.2920e-04 - accuracy: 1.0000\n",
            "Epoch 15/40\n",
            "17/17 [==============================] - 0s 8ms/step - loss: 1.9229e-04 - accuracy: 1.0000\n",
            "Epoch 16/40\n",
            "17/17 [==============================] - 0s 9ms/step - loss: 1.2174e-04 - accuracy: 1.0000\n",
            "Epoch 17/40\n",
            "17/17 [==============================] - 0s 8ms/step - loss: 8.3852e-05 - accuracy: 1.0000\n",
            "Epoch 18/40\n",
            "17/17 [==============================] - 0s 9ms/step - loss: 6.8496e-05 - accuracy: 1.0000\n",
            "Epoch 19/40\n",
            "17/17 [==============================] - 0s 8ms/step - loss: 5.9688e-05 - accuracy: 1.0000\n",
            "Epoch 20/40\n",
            "17/17 [==============================] - 0s 8ms/step - loss: 5.2739e-05 - accuracy: 1.0000\n",
            "Epoch 21/40\n",
            "17/17 [==============================] - 0s 8ms/step - loss: 4.7282e-05 - accuracy: 1.0000\n",
            "Epoch 22/40\n",
            "17/17 [==============================] - 0s 8ms/step - loss: 4.2940e-05 - accuracy: 1.0000\n",
            "Epoch 23/40\n",
            "17/17 [==============================] - 0s 8ms/step - loss: 3.9136e-05 - accuracy: 1.0000\n",
            "Epoch 24/40\n",
            "17/17 [==============================] - 0s 8ms/step - loss: 3.5944e-05 - accuracy: 1.0000\n",
            "Epoch 25/40\n",
            "17/17 [==============================] - 0s 8ms/step - loss: 3.3544e-05 - accuracy: 1.0000\n",
            "Epoch 26/40\n",
            "17/17 [==============================] - 0s 8ms/step - loss: 3.0822e-05 - accuracy: 1.0000\n",
            "Epoch 27/40\n",
            "17/17 [==============================] - 0s 10ms/step - loss: 2.8772e-05 - accuracy: 1.0000\n",
            "Epoch 28/40\n",
            "17/17 [==============================] - 0s 11ms/step - loss: 2.6839e-05 - accuracy: 1.0000\n",
            "Epoch 29/40\n",
            "17/17 [==============================] - 0s 10ms/step - loss: 2.5181e-05 - accuracy: 1.0000\n",
            "Epoch 30/40\n",
            "17/17 [==============================] - 0s 9ms/step - loss: 2.3759e-05 - accuracy: 1.0000\n",
            "Epoch 31/40\n",
            "17/17 [==============================] - 0s 9ms/step - loss: 2.2373e-05 - accuracy: 1.0000\n",
            "Epoch 32/40\n",
            "17/17 [==============================] - 0s 9ms/step - loss: 2.1284e-05 - accuracy: 1.0000\n",
            "Epoch 33/40\n",
            "17/17 [==============================] - 0s 9ms/step - loss: 2.0181e-05 - accuracy: 1.0000\n",
            "Epoch 34/40\n",
            "17/17 [==============================] - 0s 9ms/step - loss: 1.9158e-05 - accuracy: 1.0000\n",
            "Epoch 35/40\n",
            "17/17 [==============================] - 0s 10ms/step - loss: 1.8201e-05 - accuracy: 1.0000\n",
            "Epoch 36/40\n",
            "17/17 [==============================] - 0s 8ms/step - loss: 1.7234e-05 - accuracy: 1.0000\n",
            "Epoch 37/40\n",
            "17/17 [==============================] - 0s 8ms/step - loss: 1.6398e-05 - accuracy: 1.0000\n",
            "Epoch 38/40\n",
            "17/17 [==============================] - 0s 9ms/step - loss: 1.5671e-05 - accuracy: 1.0000\n",
            "Epoch 39/40\n",
            "17/17 [==============================] - 0s 9ms/step - loss: 1.4942e-05 - accuracy: 1.0000\n",
            "Epoch 40/40\n",
            "17/17 [==============================] - 0s 9ms/step - loss: 1.4276e-05 - accuracy: 1.0000\n"
          ]
        }
      ]
    },
    {
      "cell_type": "code",
      "source": [
        "model.save('/content/drive/MyDrive/Colab Notebooks/Anh_lop_201461/model_Anh_lop_20146.h5')"
      ],
      "metadata": {
        "id": "KebZrcfL_t53"
      },
      "execution_count": 53,
      "outputs": []
    },
    {
      "cell_type": "code",
      "source": [
        "import matplotlib.pyplot as plt\n",
        "eval = model.evaluate(x_test,y_test,verbose=1)\n",
        "print('Test loss:', eval[0])\n",
        "print('Test accuracy;',eval[1])\n",
        "accuracy = train.history['accuracy']\n",
        "val_accuracy = train.history['loss']\n",
        "epochs = range(len(accuracy))\n",
        "plt.plot(epochs,accuracy,'bo',label='Training Accuracy')\n",
        "plt.plot(epochs,val_accuracy,'b',label= 'Test Accuracy')\n",
        "plt.title('Training & Test Accuracy')"
      ],
      "metadata": {
        "colab": {
          "base_uri": "https://localhost:8080/",
          "height": 525
        },
        "id": "UWArAUeCAYyn",
        "outputId": "b04c08fa-68cb-44f8-fe65-5a25975db2a8"
      },
      "execution_count": 54,
      "outputs": [
        {
          "output_type": "stream",
          "name": "stdout",
          "text": [
            "6/6 [==============================] - 0s 20ms/step - loss: 26.4857 - accuracy: 0.2697\n",
            "Test loss: 26.48566436767578\n",
            "Test accuracy; 0.26966291666030884\n"
          ]
        },
        {
          "output_type": "execute_result",
          "data": {
            "text/plain": [
              "Text(0.5, 1.0, 'Training & Test Accuracy')"
            ]
          },
          "metadata": {},
          "execution_count": 54
        },
        {
          "output_type": "display_data",
          "data": {
            "text/plain": [
              "<Figure size 640x480 with 1 Axes>"
            ],
            "image/png": "[encoded data removed]"
          },
          "metadata": {}
        }
      ]
    },
    {
      "cell_type": "code",
      "source": [
        "import matplotlib.pyplot as plt\n",
        "from keras.utils.image_utils import img_to_array \n",
        "from keras.utils import load_img \n",
        "import numpy as np\n",
        "img = load_img('/content/drive/MyDrive/Colab Notebooks/Anh_lop_201461/Image/Thang (5).jpg',target_size=(32,32))\n",
        "plt.imshow(img)\n",
        "plt.show()\n",
        "img= img_to_array(img)\n",
        "img =img.reshape(1,32,32,3)\n",
        "img = img.astype('float32')\n",
        "img = img /255\n",
        "Ten=np.argmax(model.predict(img),axis=-1)\n",
        "print(Ten)\n",
        "ten = ['Huỳnh Hữu Bằng','Nguyễn Đức Bình','Vũ Đức Bình','Hữu Chí','Nguyễn Bảo Chương',\n",
        "       'Thái Việt Cường','Huỳnh Quốc Dân','Nguyễn Hải Đăng','Trần Khánh Duy',\n",
        "       'Đỗ Trọng Hiếu','Diệp Khải Hoàn','Huy A','Huy B','Hồ Đình Khanh','Quảng Trọng Tấn Lộc',\n",
        "       'Đoàn Thanh Nam','Đình Như','Cao Tần Phi','Phong','Quang','Nguyễn Phi Thắng','Tri_A',\n",
        "       'Tri_B','Hồ Đăng Tú','Võ Mình Tuấn','Tùng','Lê Sĩ Việt','Vinh']\n",
        "for i in range(1,29):\n",
        "  if (Ten == i):\n",
        "    print(ten[i-1])\n",
        "\n"
      ],
      "metadata": {
        "colab": {
          "base_uri": "https://localhost:8080/",
          "height": 484
        },
        "id": "xvrI8F2RHhxs",
        "outputId": "0fb39f2c-c513-43bb-e66b-316e550567ab"
      },
      "execution_count": 59,
      "outputs": [
        {
          "output_type": "display_data",
          "data": {
            "text/plain": [
              "<Figure size 640x480 with 1 Axes>"
            ],
            "image/png": "[encoded data removed]"
          },
          "metadata": {}
        },
        {
          "output_type": "stream",
          "name": "stdout",
          "text": [
            "1/1 [==============================] - 0s 34ms/step\n",
            "[21]\n",
            "Nguyễn Phi Thắng\n"
          ]
        }
      ]
    }
  ]
}