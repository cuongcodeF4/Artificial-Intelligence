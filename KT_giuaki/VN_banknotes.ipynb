{
  "nbformat": 4,
  "nbformat_minor": 0,
  "metadata": {
    "colab": {
      "provenance": [],
      "gpuType": "T4",
      "include_colab_link": true
    },
    "kernelspec": {
      "name": "python3",
      "display_name": "Python 3"
    },
    "language_info": {
      "name": "python"
    },
    "gpuClass": "standard",
    "accelerator": "GPU"
  },
  "cells": [
    {
      "cell_type": "markdown",
      "metadata": {
        "id": "view-in-github",
        "colab_type": "text"
      },
      "source": [
        "<a href=\"https://colab.research.google.com/github/cuongcodeF4/Artificial-Intelligence/blob/main/KT_giuaki/VN_banknotes.ipynb\" target=\"_parent\"><img src=\"https://colab.research.google.com/assets/colab-badge.svg\" alt=\"Open In Colab\"/></a>"
      ]
    },
    {
      "cell_type": "code",
      "execution_count": null,
      "metadata": {
        "id": "0CUrJrDhwpkw"
      },
      "outputs": [],
      "source": [
        "from os import listdir\n",
        "from numpy import asarray\n",
        "from numpy import save\n",
        "from keras.utils.image_utils import img_to_array \n",
        "from keras.utils import load_img \n",
        "from numpy.lib.npyio import load\n",
        "import numpy as np"
      ]
    },
    {
      "cell_type": "code",
      "source": [
        "#Load data từ drive lên \n",
        "folder='/content/drive/MyDrive/Colab Notebooks/Tien_giay/Tien_banknotes/'\n",
        "#Tạo 2 danh sách trống để chứa ảnh và nhãn cần xử lí \n",
        "photos,labels = list(),list()\n",
        "for file in listdir(folder):\n",
        "  if file.startswith('tien_5'):\n",
        "    output =  0.0  #'5.000 Ngàn đồng'    \n",
        "  if file.startswith('tien_10'):\n",
        "    output =  1.0    #'10.000 Ngàn đồng'\n",
        "  if file.startswith('tien_20'):\n",
        "    output =  2.0    #'20.000 Ngàn đồng' \n",
        "  if file.startswith('tien_50'):\n",
        "    output =  3.0   #'50.000 Ngàn đồng'  \n",
        "  if file.startswith('tien_100'):\n",
        "    output =  4.0   #'100.000 Ngàn đồng'  \n",
        "  if file.startswith('200'):\n",
        "    output =  5.0  #'200.000 Ngàn đồng'  \n",
        "  if file.startswith('tien_500'):\n",
        "    output =  6.0   #'500.000 Ngàn đồng' \n",
        "  photo = load_img(folder+file, target_size= (50,100))\n",
        "  photo = img_to_array(photo) #Chuyển ảnh sang kiểu mảng để có thể xử lí dễ dàng \n",
        "  photos.append(photo)\n",
        "  labels.append(output)\n",
        "photos= asarray(photos)\n",
        "labels = asarray(labels)\n",
        "# Lưu file hình và file nhãn vào drive để sau này xử lí  \n",
        "save('/content/drive/MyDrive/Colab Notebooks/Tien_giay/Tien_photo.npy',photos)\n",
        "save('/content/drive/MyDrive/Colab Notebooks/Tien_giay/Tien_label.npy',labels)"
      ],
      "metadata": {
        "id": "1mm9lnO1FeLx"
      },
      "execution_count": null,
      "outputs": []
    },
    {
      "cell_type": "code",
      "source": [
        "#Tải ảnh và nhãn đã lưu lên để xử lí\n",
        "photo = np.load('/content/drive/MyDrive/Colab Notebooks/Tien_giay/Tien_photo.npy')\n",
        "label = np.load('/content/drive/MyDrive/Colab Notebooks/Tien_giay/Tien_label.npy')"
      ],
      "metadata": {
        "id": "qukrhKx01Hiw"
      },
      "execution_count": null,
      "outputs": []
    },
    {
      "cell_type": "code",
      "source": [
        "#Chia dữ liệu thành 2 phần train và test để kiểm tra mô hình \n",
        "split_sample = int(0.2*len(photo)) # phần train : 80% , test: 20%\n",
        "(x_train,y_train) = photo[split_sample:],label[split_sample:]\n",
        "(x_test,y_test)= photo[:split_sample],label[:split_sample]"
      ],
      "metadata": {
        "id": "_YJ3hFkx36BQ"
      },
      "execution_count": null,
      "outputs": []
    },
    {
      "cell_type": "code",
      "source": [
        "#Kiểm tra kích thước của tập train\n",
        "x_train.shape"
      ],
      "metadata": {
        "colab": {
          "base_uri": "https://localhost:8080/"
        },
        "id": "oZ5z7hFaCs2T",
        "outputId": "f46ad191-a94a-42dd-d5b5-0822b26575aa"
      },
      "execution_count": null,
      "outputs": [
        {
          "output_type": "execute_result",
          "data": {
            "text/plain": [
              "(396, 50, 100, 3)"
            ]
          },
          "metadata": {},
          "execution_count": 7
        }
      ]
    },
    {
      "cell_type": "code",
      "source": [
        "#Kiểm tra kích thước của tập test\n",
        "x_test.shape"
      ],
      "metadata": {
        "colab": {
          "base_uri": "https://localhost:8080/"
        },
        "id": "UE_8_PBBCwoR",
        "outputId": "2e252b49-9bf1-4fb0-842c-f2ccd259974b"
      },
      "execution_count": null,
      "outputs": [
        {
          "output_type": "execute_result",
          "data": {
            "text/plain": [
              "(98, 50, 100, 3)"
            ]
          },
          "metadata": {},
          "execution_count": 8
        }
      ]
    },
    {
      "cell_type": "code",
      "source": [
        "#Đưa ảnh về độ phân giải 50x100 để đảm bảo độ chính xác \n",
        "# và giảm thiểu thời gian tính toán\n",
        "x_train = x_train.reshape(396,50,100,3)\n",
        "x_test = x_test.reshape(98,50,100,3)\n",
        "#Chia 255 để chuẩn hóa dữ liệu về khoảng 0 đến 1 giúp \n",
        "# mô hình học được nhanh và hiệu quả hơn \n",
        "x_train = x_train.astype('float32')/255 \n",
        "x_test = x_test.astype('float32')/255"
      ],
      "metadata": {
        "id": "7AWfoVMS4q3V"
      },
      "execution_count": null,
      "outputs": []
    },
    {
      "cell_type": "code",
      "source": [
        "# chuyển đổi các nhãn lớp của dữ liệu huấn luyện và \n",
        "# kiểm tra thành các vectơ one-hot encoding. \n",
        "from keras.utils import to_categorical\n",
        "y_train = to_categorical(y_train,7)\n",
        "y_test  = to_categorical(y_test,7)"
      ],
      "metadata": {
        "id": "wTLqsHf_DVFG"
      },
      "execution_count": null,
      "outputs": []
    },
    {
      "cell_type": "code",
      "source": [
        "# Khai báo các thư viện cần thiết để xây dựng mô hình CNN\n",
        "from keras.models import Sequential , Model\n",
        "from keras.layers import Dense , Flatten, Dropout, Conv2D, MaxPooling2D ,Normalization,Input\n",
        "from keras.optimizers import Adam "
      ],
      "metadata": {
        "id": "7vnNTiIIDff-"
      },
      "execution_count": null,
      "outputs": []
    },
    {
      "cell_type": "code",
      "source": [
        "# Định nghĩa các biến \n",
        "batch_size = 32  # số lượng học\n",
        "epochs =  20     #số lần học\n",
        "classes = 7      # Số lớp "
      ],
      "metadata": {
        "id": "0sZM6BcFDnT7"
      },
      "execution_count": null,
      "outputs": []
    },
    {
      "cell_type": "code",
      "source": [
        "model=Sequential() # Khởi tạo đối tượng để xây dựng mô hình CNN \n",
        "\n",
        "# Dùng mô hình CNN với 3 lớp tích chập để huấn luyện cho tập dữ liệu tiền giấy \n",
        "model.add(Conv2D(32,kernel_size=(3,3),activation ='linear',input_shape= (50,100,3),padding= 'same'))   \n",
        "# 32:số lần tích chập, (3,3): kích thước bộ lọc , hàm kích hoạt là hàm tuyến tính \n",
        "# với đầu vào ảnh là 50x100 pixel và 3 kênh màu\n",
        "\n",
        "from keras.layers import LeakyReLU\n",
        " # Sử dụng hàm kích hoạt LeakyReLU cho đầu ra của lớp Conv2D.\n",
        "model.add(LeakyReLU(alpha= 0.1))\n",
        "#Lọc giá trị lớn hơn với kích thước 2x2 \n",
        "model.add(MaxPooling2D((2,2), padding= 'same'))\n",
        "\n",
        "model.add(Conv2D(64,(3,3), activation= 'linear', padding= 'same'))\n",
        "model.add(LeakyReLU(alpha= 0.1))\n",
        "model.add(MaxPooling2D((2,2), padding= 'same'))\n",
        "\n",
        "model.add(Conv2D(128,(3,3), activation= 'linear', padding= 'same'))\n",
        "model.add(LeakyReLU(alpha= 0.1))\n",
        "model.add(MaxPooling2D((2,2), padding= 'same'))"
      ],
      "metadata": {
        "id": "iwK6yLOLEBOI"
      },
      "execution_count": null,
      "outputs": []
    },
    {
      "cell_type": "code",
      "source": [
        "from keras.backend import categorical_crossentropy\n",
        "from keras.losses import categorical_crossentropy\n",
        "model.add(Flatten())  #chuyển đổi đầu ra của các lớp tích chập \n",
        "                      #và lớp pooling thành một vector 1D \n",
        "model.add(Dense(128,activation='linear'))   #Đi qua 128 lớp\n",
        "model.add(LeakyReLU(alpha=0.1))\n",
        "model.add(Dense(classes,activation='softmax'))\n",
        "model.summary()"
      ],
      "metadata": {
        "colab": {
          "base_uri": "https://localhost:8080/"
        },
        "id": "FGiGCmN_03pU",
        "outputId": "19677308-cbaf-43c2-8aa8-d4f73e20a9ea"
      },
      "execution_count": null,
      "outputs": [
        {
          "output_type": "stream",
          "name": "stdout",
          "text": [
            "Model: \"sequential_2\"\n",
            "_________________________________________________________________\n",
            " Layer (type)                Output Shape              Param #   \n",
            "=================================================================\n",
            " conv2d_6 (Conv2D)           (None, 50, 100, 32)       896       \n",
            "                                                                 \n",
            " leaky_re_lu_9 (LeakyReLU)   (None, 50, 100, 32)       0         \n",
            "                                                                 \n",
            " max_pooling2d_6 (MaxPooling  (None, 25, 50, 32)       0         \n",
            " 2D)                                                             \n",
            "                                                                 \n",
            " conv2d_7 (Conv2D)           (None, 25, 50, 64)        18496     \n",
            "                                                                 \n",
            " leaky_re_lu_10 (LeakyReLU)  (None, 25, 50, 64)        0         \n",
            "                                                                 \n",
            " max_pooling2d_7 (MaxPooling  (None, 13, 25, 64)       0         \n",
            " 2D)                                                             \n",
            "                                                                 \n",
            " conv2d_8 (Conv2D)           (None, 13, 25, 128)       73856     \n",
            "                                                                 \n",
            " leaky_re_lu_11 (LeakyReLU)  (None, 13, 25, 128)       0         \n",
            "                                                                 \n",
            " max_pooling2d_8 (MaxPooling  (None, 7, 13, 128)       0         \n",
            " 2D)                                                             \n",
            "                                                                 \n",
            " flatten_3 (Flatten)         (None, 11648)             0         \n",
            "                                                                 \n",
            " dense_6 (Dense)             (None, 128)               1491072   \n",
            "                                                                 \n",
            " leaky_re_lu_12 (LeakyReLU)  (None, 128)               0         \n",
            "                                                                 \n",
            " dense_7 (Dense)             (None, 7)                 903       \n",
            "                                                                 \n",
            "=================================================================\n",
            "Total params: 1,585,223\n",
            "Trainable params: 1,585,223\n",
            "Non-trainable params: 0\n",
            "_________________________________________________________________\n"
          ]
        }
      ]
    },
    {
      "cell_type": "code",
      "source": [
        "model.compile(loss= categorical_crossentropy,optimizer= Adam(),metrics=['accuracy'])\n",
        "train = model.fit(x_train,y_train,batch_size= batch_size,epochs=epochs,verbose =1)      \n",
        "# verbose=1,Hiển thị giá trị train, chỉ xuất hiện 1 lần rồi biến mất"
      ],
      "metadata": {
        "colab": {
          "base_uri": "https://localhost:8080/"
        },
        "id": "F1KmCiAiE-yz",
        "outputId": "a47ada5b-f906-407b-bef6-be6936434e7e"
      },
      "execution_count": null,
      "outputs": [
        {
          "output_type": "stream",
          "name": "stdout",
          "text": [
            "Epoch 1/20\n",
            "13/13 [==============================] - 10s 25ms/step - loss: 1.7397 - accuracy: 0.3283\n",
            "Epoch 2/20\n",
            "13/13 [==============================] - 0s 8ms/step - loss: 1.1577 - accuracy: 0.5455\n",
            "Epoch 3/20\n",
            "13/13 [==============================] - 0s 9ms/step - loss: 0.9176 - accuracy: 0.6162\n",
            "Epoch 4/20\n",
            "13/13 [==============================] - 0s 9ms/step - loss: 0.6295 - accuracy: 0.7626\n",
            "Epoch 5/20\n",
            "13/13 [==============================] - 0s 8ms/step - loss: 0.5242 - accuracy: 0.8081\n",
            "Epoch 6/20\n",
            "13/13 [==============================] - 0s 9ms/step - loss: 0.3216 - accuracy: 0.8990\n",
            "Epoch 7/20\n",
            "13/13 [==============================] - 0s 10ms/step - loss: 0.3276 - accuracy: 0.8864\n",
            "Epoch 8/20\n",
            "13/13 [==============================] - 0s 8ms/step - loss: 0.2882 - accuracy: 0.8990\n",
            "Epoch 9/20\n",
            "13/13 [==============================] - 0s 8ms/step - loss: 0.1932 - accuracy: 0.9343\n",
            "Epoch 10/20\n",
            "13/13 [==============================] - 0s 9ms/step - loss: 0.1746 - accuracy: 0.9318\n",
            "Epoch 11/20\n",
            "13/13 [==============================] - 0s 8ms/step - loss: 0.1112 - accuracy: 0.9646\n",
            "Epoch 12/20\n",
            "13/13 [==============================] - 0s 9ms/step - loss: 0.1194 - accuracy: 0.9520\n",
            "Epoch 13/20\n",
            "13/13 [==============================] - 0s 9ms/step - loss: 0.0765 - accuracy: 0.9773\n",
            "Epoch 14/20\n",
            "13/13 [==============================] - 0s 9ms/step - loss: 0.0502 - accuracy: 0.9899\n",
            "Epoch 15/20\n",
            "13/13 [==============================] - 0s 8ms/step - loss: 0.0268 - accuracy: 0.9924\n",
            "Epoch 16/20\n",
            "13/13 [==============================] - 0s 9ms/step - loss: 0.0303 - accuracy: 0.9874\n",
            "Epoch 17/20\n",
            "13/13 [==============================] - 0s 9ms/step - loss: 0.0195 - accuracy: 0.9975\n",
            "Epoch 18/20\n",
            "13/13 [==============================] - 0s 9ms/step - loss: 0.0156 - accuracy: 0.9975\n",
            "Epoch 19/20\n",
            "13/13 [==============================] - 0s 9ms/step - loss: 0.0156 - accuracy: 0.9975\n",
            "Epoch 20/20\n",
            "13/13 [==============================] - 0s 9ms/step - loss: 0.0070 - accuracy: 1.0000\n"
          ]
        }
      ]
    },
    {
      "cell_type": "code",
      "source": [
        "#Lưu mô hình vừa được huấn luyện xuống drive \n",
        "model.save('/content/drive/MyDrive/Colab Notebooks/Tien_giay/Tien.h5')"
      ],
      "metadata": {
        "id": "shqiHiqUFJx6"
      },
      "execution_count": null,
      "outputs": []
    },
    {
      "cell_type": "code",
      "source": [
        "# Vẽ đồ thị độ chính xác và  của tập test\n",
        "import matplotlib.pyplot as plt\n",
        "eval = model.evaluate(x_test,y_test,verbose=0)\n",
        "print('Test loss:', eval[0])\n",
        "print('Test accuracy;',eval[1])\n",
        "accuracy = train.history['accuracy']\n",
        "val_accuracy = train.history['loss']\n",
        "epochs = range(len(accuracy))\n",
        "plt.plot(epochs,accuracy,'bo',label='Test loss')\n",
        "plt.plot(epochs,val_accuracy,'b',label= 'Test Accuracy')\n",
        "plt.title('Test loss & Test Accuracy')"
      ],
      "metadata": {
        "colab": {
          "base_uri": "https://localhost:8080/",
          "height": 506
        },
        "id": "PAIiTcbc5Rd_",
        "outputId": "ce245673-6741-40c6-bd51-91f3237d8d79"
      },
      "execution_count": null,
      "outputs": [
        {
          "output_type": "stream",
          "name": "stdout",
          "text": [
            "Test loss: 1.265075155743034e-07\n",
            "Test accuracy; 1.0\n"
          ]
        },
        {
          "output_type": "execute_result",
          "data": {
            "text/plain": [
              "Text(0.5, 1.0, 'Test loss & Test Accuracy')"
            ]
          },
          "metadata": {},
          "execution_count": 26
        },
        {
          "output_type": "display_data",
          "data": {
            "text/plain": [
              "<Figure size 640x480 with 1 Axes>"
            ],
            "image/png": "[encoded data removed]"
          },
          "metadata": {}
        }
      ]
    },
    {
      "cell_type": "code",
      "source": [
        "import matplotlib.pyplot as plt\n",
        "from keras.utils.image_utils import img_to_array \n",
        "from keras.utils import load_img \n",
        "import numpy as np\n",
        "# Tải một ảnh chưa train qua để kiểm tra độ chính xác của mô hình \n",
        "img = load_img('/content/drive/MyDrive/Colab Notebooks/Tien_giay/Test_image/200k.jpg',target_size=(50,100))\n",
        "plt.imshow(img)\n",
        "plt.show()\n",
        "img= img_to_array(img)\n",
        "img =img.reshape(1,50,100,3)\n",
        "img = img.astype('float32')\n",
        "img = img /255\n",
        "Gia_tien=np.argmax(model.predict(img),axis=-1)\n",
        "print(Gia_tien)\n",
        "if (Gia_tien == 0) :\n",
        "  print('Hình ảnh có mệnh giá: 5.000 đồng')\n",
        "if (Gia_tien == 1) :\n",
        "  print('Hình ảnh có mệnh giá: 10.000 đồng')\n",
        "if (Gia_tien == 2) :\n",
        "  print('Hình ảnh có mệnh giá: 20.000 đồng')\n",
        "if (Gia_tien == 3) :\n",
        "  print('Hình ảnh có mệnh giá: 50.000 đồng')\n",
        "if (Gia_tien == 4) :\n",
        "  print('Hình ảnh có mệnh giá: 100.000 đồng')\n",
        "if (Gia_tien == 5) :\n",
        "  print('Hình ảnh có mệnh giá: 200.000 đồng')\n",
        "if (Gia_tien == 6) :\n",
        "  print('Hình ảnh có mệnh giá: 500.000 đồng')\n"
      ],
      "metadata": {
        "id": "pm74FpTGHvyT",
        "colab": {
          "base_uri": "https://localhost:8080/",
          "height": 365
        },
        "outputId": "e94742e3-0e6f-459e-9d34-a29dd60abf03"
      },
      "execution_count": null,
      "outputs": [
        {
          "output_type": "display_data",
          "data": {
            "text/plain": [
              "<Figure size 640x480 with 1 Axes>"
            ],
            "image/png": "[encoded data removed]"
          },
          "metadata": {}
        },
        {
          "output_type": "stream",
          "name": "stdout",
          "text": [
            "1/1 [==============================] - 0s 20ms/step\n",
            "[5]\n",
            "Hình ảnh có mệnh giá: 200.000 đồng\n"
          ]
        }
      ]
    }
  ]
}