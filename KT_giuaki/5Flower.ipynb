{
  "nbformat": 4,
  "nbformat_minor": 0,
  "metadata": {
    "colab": {
      "provenance": [],
      "gpuType": "T4",
      "mount_file_id": "1g_7RXH1RmB0i_aW02fnWIUQ3vTq1_DLl",
      "authorship_tag": "ABX9TyODCayddHnKJSJgarNwvK6b",
      "include_colab_link": true
    },
    "kernelspec": {
      "name": "python3",
      "display_name": "Python 3"
    },
    "language_info": {
      "name": "python"
    },
    "accelerator": "GPU",
    "gpuClass": "standard"
  },
  "cells": [
    {
      "cell_type": "markdown",
      "metadata": {
        "id": "view-in-github",
        "colab_type": "text"
      },
      "source": [
        "<a href=\"https://colab.research.google.com/github/cuongcodeF4/Artificial-Intelligence/blob/main/KT_giuaki/5Flower.ipynb\" target=\"_parent\"><img src=\"https://colab.research.google.com/assets/colab-badge.svg\" alt=\"Open In Colab\"/></a>"
      ]
    },
    {
      "cell_type": "code",
      "execution_count": null,
      "metadata": {
        "id": "0Kg618DTRUJf"
      },
      "outputs": [],
      "source": [
        "from os import listdir\n",
        "from numpy import asarray\n",
        "from numpy import save\n",
        "from keras.utils.image_utils import img_to_array \n",
        "from keras.utils import load_img \n",
        "from numpy.lib.npyio import load\n",
        "import numpy as np"
      ]
    },
    {
      "cell_type": "code",
      "source": [
        "#Load data từ drive lên \n",
        "folder='/content/drive/MyDrive/Colab Notebooks/5Flower/Image/'\n",
        "#Tạo 2 danh sách trống để chứa ảnh và nhãn cần xử lí \n",
        "photos,labels = list(),list()\n",
        "for file in listdir(folder):\n",
        "  if file.startswith('hoasung'):\n",
        "    output = 0.0     \n",
        "  if file.startswith('hoasen'):\n",
        "    output = 1.0    \n",
        "  if file.startswith('hoamo'):\n",
        "    output = 2.0    \n",
        "  if file.startswith('hoacuc'):\n",
        "    output = 3.0    \n",
        "  if file.startswith('hoahong'):\n",
        "    output = 4.0   \n",
        "  photo = load_img(folder+file, target_size= (64,64))\n",
        "  photo = img_to_array(photo)\n",
        "  photos.append(photo)\n",
        "  labels.append(output)\n",
        "photos= asarray(photos)\n",
        "labels = asarray(labels)\n",
        "# Lưu file hình và file nhãn vào drive để sau này xử lí  \n",
        "save('/content/drive/MyDrive/Colab Notebooks/5Flower/5Flower_photo.npy',photos)\n",
        "save('/content/drive/MyDrive/Colab Notebooks/5Flower/5Flower_label.npy',labels)\n"
      ],
      "metadata": {
        "id": "LdeN7LVLRbIY",
        "colab": {
          "base_uri": "https://localhost:8080/"
        },
        "outputId": "1d4d3160-13b8-4015-a17b-20161d2da7a5"
      },
      "execution_count": null,
      "outputs": [
        {
          "output_type": "stream",
          "name": "stderr",
          "text": [
            "/usr/local/lib/python3.9/dist-packages/PIL/Image.py:975: UserWarning: Palette images with Transparency expressed in bytes should be converted to RGBA images\n",
            "  warnings.warn(\n"
          ]
        }
      ]
    },
    {
      "cell_type": "code",
      "source": [
        "#Tải ảnh và nhãn đã lưu lên để xử lí\n",
        "photo = np.load('/content/drive/MyDrive/Colab Notebooks/5Flower/5Flower_photo.npy')\n",
        "label = np.load('/content/drive/MyDrive/Colab Notebooks/5Flower/5Flower_label.npy')"
      ],
      "metadata": {
        "id": "AGZrGcpXR7wD"
      },
      "execution_count": null,
      "outputs": []
    },
    {
      "cell_type": "code",
      "source": [
        "#Chia dữ liệu thành 2 phần train và test để kiểm tra mô hình\n",
        "split_sample = int(0.05*len(photo))   # phần train : 95% , test: 5%\n",
        "(x_train,y_train) = photo[split_sample:],label[split_sample:]\n",
        "(x_test,y_test)= photo[:split_sample],label[:split_sample]\n"
      ],
      "metadata": {
        "id": "9z6ksTWACFya"
      },
      "execution_count": null,
      "outputs": []
    },
    {
      "cell_type": "code",
      "source": [
        "#Kiểm tra kích thước của tập train\n",
        "x_train.shape"
      ],
      "metadata": {
        "colab": {
          "base_uri": "https://localhost:8080/"
        },
        "id": "ShPkNDZrCGOD",
        "outputId": "03c5b103-5029-44b6-d51d-64961a24016d"
      },
      "execution_count": null,
      "outputs": [
        {
          "output_type": "execute_result",
          "data": {
            "text/plain": [
              "(285, 64, 64, 3)"
            ]
          },
          "metadata": {},
          "execution_count": 5
        }
      ]
    },
    {
      "cell_type": "code",
      "source": [
        "#Kiểm tra kích thước của tập test\n",
        "x_test.shape"
      ],
      "metadata": {
        "colab": {
          "base_uri": "https://localhost:8080/"
        },
        "id": "e6vECufTSHTy",
        "outputId": "cba93071-c6af-4770-9518-6240599cf993"
      },
      "execution_count": null,
      "outputs": [
        {
          "output_type": "execute_result",
          "data": {
            "text/plain": [
              "(15, 64, 64, 3)"
            ]
          },
          "metadata": {},
          "execution_count": 6
        }
      ]
    },
    {
      "cell_type": "code",
      "source": [
        "#Đưa ảnh về độ phân giải 64x64 để đảm bảo độ chính xác \n",
        "# và giảm thiểu thời gian tính toán\n",
        "x_train = x_train.reshape(285,64,64,3)\n",
        "x_test = x_test.reshape(15,64,64,3)\n",
        "#Chia 255 để chuẩn hóa dữ liệu về khoảng 0 đến 1 giúp \n",
        "# mô hình học được nhanh và hiệu quả hơn \n",
        "x_train = x_train.astype('float32')/255\n",
        "x_test = x_test.astype('float32')/255"
      ],
      "metadata": {
        "id": "sSa0lMjTSKjA"
      },
      "execution_count": null,
      "outputs": []
    },
    {
      "cell_type": "code",
      "source": [
        "# chuyển đổi các nhãn lớp của dữ liệu huấn luyện và \n",
        "# kiểm tra thành các vectơ one-hot encoding.\n",
        "from keras.utils import to_categorical\n",
        "y_train = to_categorical(y_train,5)\n",
        "y_test  = to_categorical(y_test,5)"
      ],
      "metadata": {
        "id": "gTFVqxgpSL4x"
      },
      "execution_count": null,
      "outputs": []
    },
    {
      "cell_type": "code",
      "source": [
        "# Khai báo các thư viện cần thiết để xây dựng mô hình CNN\n",
        "from keras.models import Sequential , Model\n",
        "from keras.layers import Dense , Flatten, Dropout, Conv2D, MaxPooling2D ,Normalization,Input\n",
        "from keras.optimizers import Adam "
      ],
      "metadata": {
        "id": "tifB0T3fSQzg"
      },
      "execution_count": null,
      "outputs": []
    },
    {
      "cell_type": "code",
      "source": [
        "# Định nghĩa các biến \n",
        "batch_size = 30  # số lượng học\n",
        "epochs =  30     #số lần học\n",
        "classes = 5     # Số lớp"
      ],
      "metadata": {
        "id": "IA8Hk-cSSSil"
      },
      "execution_count": null,
      "outputs": []
    },
    {
      "cell_type": "code",
      "source": [
        "model=Sequential()    # Khởi tạo đối tượng để xây dựng mô hình CNN \n",
        "# Dùng mô hình CNN với 3 lớp tích chập để huấn luyện cho tập dữ liệu tiền giấy \n",
        "model.add(Conv2D(64,kernel_size=(3,3),activation ='linear',input_shape= (64,64,3),padding= 'same'))   \n",
        "# 64:số lần tích chập, (3,3): kích thước bộ lọc , hàm kích hoạt là hàm tuyến tính \n",
        "# với đầu vào ảnh là 64x64 pixel và 3 kênh màu\n",
        "from keras.layers import LeakyReLU\n",
        "# Sử dụng hàm kích hoạt LeakyReLU cho đầu ra của lớp Conv2D.\n",
        "model.add(LeakyReLU(alpha= 0.1))\n",
        "#Lọc giá trị lớn hơn với kích thước 2x2 \n",
        "model.add(MaxPooling2D((2,2), padding= 'same'))\n",
        "\n",
        "model.add(Conv2D(64,(3,3), activation= 'linear', padding= 'same'))\n",
        "model.add(LeakyReLU(alpha= 0.1))\n",
        "model.add(MaxPooling2D((2,2), padding= 'same'))\n",
        "\n",
        "model.add(Conv2D(128,(3,3), activation= 'linear', padding= 'same'))\n",
        "model.add(LeakyReLU(alpha= 0.1))\n",
        "model.add(MaxPooling2D((2,2), padding= 'same'))\n",
        "\n",
        "from keras.backend import categorical_crossentropy\n",
        "from keras.losses import categorical_crossentropy\n",
        "model.add(Flatten())  #chuyển đổi đầu ra của các lớp tích chập \n",
        "                      #và lớp pooling thành một vector 1D \n",
        "\n",
        "model.add(Dense(2048,activation='linear'))   #Đi qua 2048 lớp\n",
        "model.add(LeakyReLU(alpha=0.1))\n",
        "model.add(Dense(1042,activation='linear'))   #Đi qua 1024 lớp\n",
        "model.add(LeakyReLU(alpha=0.1))\n",
        "model.add(Dense(128,activation='linear'))   #Đi qua 128 lớp\n",
        "model.add(LeakyReLU(alpha=0.1))\n",
        "model.add(Dense(classes,activation='softmax'))\n",
        "model.summary()"
      ],
      "metadata": {
        "colab": {
          "base_uri": "https://localhost:8080/"
        },
        "id": "SS5iAvatSUYX",
        "outputId": "84acb38e-b5f7-4507-ba33-fcccf4931480"
      },
      "execution_count": null,
      "outputs": [
        {
          "output_type": "stream",
          "name": "stdout",
          "text": [
            "Model: \"sequential\"\n",
            "_________________________________________________________________\n",
            " Layer (type)                Output Shape              Param #   \n",
            "=================================================================\n",
            " conv2d (Conv2D)             (None, 64, 64, 64)        1792      \n",
            "                                                                 \n",
            " leaky_re_lu (LeakyReLU)     (None, 64, 64, 64)        0         \n",
            "                                                                 \n",
            " max_pooling2d (MaxPooling2D  (None, 32, 32, 64)       0         \n",
            " )                                                               \n",
            "                                                                 \n",
            " conv2d_1 (Conv2D)           (None, 32, 32, 64)        36928     \n",
            "                                                                 \n",
            " leaky_re_lu_1 (LeakyReLU)   (None, 32, 32, 64)        0         \n",
            "                                                                 \n",
            " max_pooling2d_1 (MaxPooling  (None, 16, 16, 64)       0         \n",
            " 2D)                                                             \n",
            "                                                                 \n",
            " conv2d_2 (Conv2D)           (None, 16, 16, 128)       73856     \n",
            "                                                                 \n",
            " leaky_re_lu_2 (LeakyReLU)   (None, 16, 16, 128)       0         \n",
            "                                                                 \n",
            " max_pooling2d_2 (MaxPooling  (None, 8, 8, 128)        0         \n",
            " 2D)                                                             \n",
            "                                                                 \n",
            " flatten (Flatten)           (None, 8192)              0         \n",
            "                                                                 \n",
            " dense (Dense)               (None, 2048)              16779264  \n",
            "                                                                 \n",
            " leaky_re_lu_3 (LeakyReLU)   (None, 2048)              0         \n",
            "                                                                 \n",
            " dense_1 (Dense)             (None, 1042)              2135058   \n",
            "                                                                 \n",
            " leaky_re_lu_4 (LeakyReLU)   (None, 1042)              0         \n",
            "                                                                 \n",
            " dense_2 (Dense)             (None, 128)               133504    \n",
            "                                                                 \n",
            " leaky_re_lu_5 (LeakyReLU)   (None, 128)               0         \n",
            "                                                                 \n",
            " dense_3 (Dense)             (None, 5)                 645       \n",
            "                                                                 \n",
            "=================================================================\n",
            "Total params: 19,161,047\n",
            "Trainable params: 19,161,047\n",
            "Non-trainable params: 0\n",
            "_________________________________________________________________\n"
          ]
        }
      ]
    },
    {
      "cell_type": "code",
      "source": [
        "model.compile(loss= categorical_crossentropy,optimizer= Adam(),metrics=['accuracy'])\n",
        "train = model.fit(x_train,y_train,batch_size= batch_size,epochs=epochs,verbose =1)      \n",
        "# verbose=1,Hiển thị giá trị train, chỉ xuất hiện 1 lần rồi biến mất"
      ],
      "metadata": {
        "colab": {
          "base_uri": "https://localhost:8080/"
        },
        "id": "K-BeFPleSbZ2",
        "outputId": "00833511-660d-4206-ea54-d155baf5c2ac"
      },
      "execution_count": null,
      "outputs": [
        {
          "output_type": "stream",
          "name": "stdout",
          "text": [
            "Epoch 1/30\n",
            "10/10 [==============================] - 10s 36ms/step - loss: 1.8033 - accuracy: 0.1965\n",
            "Epoch 2/30\n",
            "10/10 [==============================] - 0s 13ms/step - loss: 1.5283 - accuracy: 0.3053\n",
            "Epoch 3/30\n",
            "10/10 [==============================] - 0s 12ms/step - loss: 1.2697 - accuracy: 0.4737\n",
            "Epoch 4/30\n",
            "10/10 [==============================] - 0s 14ms/step - loss: 1.2012 - accuracy: 0.4877\n",
            "Epoch 5/30\n",
            "10/10 [==============================] - 0s 12ms/step - loss: 1.0710 - accuracy: 0.5930\n",
            "Epoch 6/30\n",
            "10/10 [==============================] - 0s 13ms/step - loss: 0.9265 - accuracy: 0.6456\n",
            "Epoch 7/30\n",
            "10/10 [==============================] - 0s 12ms/step - loss: 0.8332 - accuracy: 0.6842\n",
            "Epoch 8/30\n",
            "10/10 [==============================] - 0s 13ms/step - loss: 0.7597 - accuracy: 0.7018\n",
            "Epoch 9/30\n",
            "10/10 [==============================] - 0s 12ms/step - loss: 0.6551 - accuracy: 0.7684\n",
            "Epoch 10/30\n",
            "10/10 [==============================] - 0s 12ms/step - loss: 0.5139 - accuracy: 0.8105\n",
            "Epoch 11/30\n",
            "10/10 [==============================] - 0s 12ms/step - loss: 0.2860 - accuracy: 0.9088\n",
            "Epoch 12/30\n",
            "10/10 [==============================] - 0s 13ms/step - loss: 0.3244 - accuracy: 0.8947\n",
            "Epoch 13/30\n",
            "10/10 [==============================] - 0s 13ms/step - loss: 0.3238 - accuracy: 0.9053\n",
            "Epoch 14/30\n",
            "10/10 [==============================] - 0s 12ms/step - loss: 0.1743 - accuracy: 0.9368\n",
            "Epoch 15/30\n",
            "10/10 [==============================] - 0s 12ms/step - loss: 0.1194 - accuracy: 0.9684\n",
            "Epoch 16/30\n",
            "10/10 [==============================] - 0s 13ms/step - loss: 0.1365 - accuracy: 0.9474\n",
            "Epoch 17/30\n",
            "10/10 [==============================] - 0s 12ms/step - loss: 0.4085 - accuracy: 0.9053\n",
            "Epoch 18/30\n",
            "10/10 [==============================] - 0s 14ms/step - loss: 0.2233 - accuracy: 0.9298\n",
            "Epoch 19/30\n",
            "10/10 [==============================] - 0s 13ms/step - loss: 0.1293 - accuracy: 0.9684\n",
            "Epoch 20/30\n",
            "10/10 [==============================] - 0s 13ms/step - loss: 0.0433 - accuracy: 0.9930\n",
            "Epoch 21/30\n",
            "10/10 [==============================] - 0s 13ms/step - loss: 0.0184 - accuracy: 0.9930\n",
            "Epoch 22/30\n",
            "10/10 [==============================] - 0s 13ms/step - loss: 0.0103 - accuracy: 1.0000\n",
            "Epoch 23/30\n",
            "10/10 [==============================] - 0s 14ms/step - loss: 0.0055 - accuracy: 0.9965\n",
            "Epoch 24/30\n",
            "10/10 [==============================] - 0s 14ms/step - loss: 0.0484 - accuracy: 0.9895\n",
            "Epoch 25/30\n",
            "10/10 [==============================] - 0s 14ms/step - loss: 0.2513 - accuracy: 0.9158\n",
            "Epoch 26/30\n",
            "10/10 [==============================] - 0s 14ms/step - loss: 0.3860 - accuracy: 0.8807\n",
            "Epoch 27/30\n",
            "10/10 [==============================] - 0s 14ms/step - loss: 0.1125 - accuracy: 0.9719\n",
            "Epoch 28/30\n",
            "10/10 [==============================] - 0s 15ms/step - loss: 0.0542 - accuracy: 0.9825\n",
            "Epoch 29/30\n",
            "10/10 [==============================] - 0s 14ms/step - loss: 0.0344 - accuracy: 0.9895\n",
            "Epoch 30/30\n",
            "10/10 [==============================] - 0s 14ms/step - loss: 0.0475 - accuracy: 0.9930\n"
          ]
        }
      ]
    },
    {
      "cell_type": "code",
      "source": [
        "#Lưu mô hình vừa được huấn luyện xuống drive \n",
        "model.save('/content/drive/MyDrive/Colab Notebooks/10FoodVN/10FoodVN.h5')"
      ],
      "metadata": {
        "id": "_w76CMd8Sev-"
      },
      "execution_count": null,
      "outputs": []
    },
    {
      "cell_type": "code",
      "source": [
        "# Vẽ đồ thị độ chính xác và  của tập test\n",
        "import matplotlib.pyplot as plt\n",
        "eval = model.evaluate(x_test,y_test,verbose=0)\n",
        "print('Test loss:', eval[0])\n",
        "print('Test accuracy;',eval[1])\n",
        "accuracy = train.history['accuracy']\n",
        "val_accuracy = train.history['loss']\n",
        "epochs = range(len(accuracy))\n",
        "plt.plot(epochs,accuracy,'bo',label='Test loss')\n",
        "plt.plot(epochs,val_accuracy,'b',label= 'Test Accuracy')\n",
        "plt.title('Test loss & Test Accuracy')"
      ],
      "metadata": {
        "colab": {
          "base_uri": "https://localhost:8080/",
          "height": 506
        },
        "id": "87dAQaWxEA-3",
        "outputId": "42d8f763-21bf-4ce6-a6cc-8cedede8b3d2"
      },
      "execution_count": null,
      "outputs": [
        {
          "output_type": "stream",
          "name": "stdout",
          "text": [
            "Test loss: 2.927976131439209\n",
            "Test accuracy; 0.800000011920929\n"
          ]
        },
        {
          "output_type": "execute_result",
          "data": {
            "text/plain": [
              "Text(0.5, 1.0, 'Test loss & Test Accuracy')"
            ]
          },
          "metadata": {},
          "execution_count": 14
        },
        {
          "output_type": "display_data",
          "data": {
            "text/plain": [
              "<Figure size 640x480 with 1 Axes>"
            ],
            "image/png": "[encoded data removed]"
          },
          "metadata": {}
        }
      ]
    },
    {
      "cell_type": "code",
      "source": [
        "import matplotlib.pyplot as plt\n",
        "from keras.utils.image_utils import img_to_array \n",
        "from keras.utils import load_img \n",
        "import numpy as np\n",
        "# Tải một ảnh chưa train qua để kiểm tra độ chính xác của mô hình \n",
        "img = load_img('/content/drive/MyDrive/Colab Notebooks/5Flower/Test_image/hoacuc.jpg',target_size=(64,64))\n",
        "plt.imshow(img)\n",
        "plt.show()\n",
        "img= img_to_array(img)\n",
        "img =img.reshape(1,64,64,3)\n",
        "img = img.astype('float32')\n",
        "img = img /255\n",
        "Mon_an=np.argmax(model.predict(img),axis=-1)\n",
        "\n",
        "if (Mon_an == 0) :\n",
        "  print('Hình ảnh là : Hoa súng')\n",
        "if (Mon_an == 1) :\n",
        "  print('Hình ảnh là : Hoa sen')\n",
        "if (Mon_an == 2) :\n",
        "  print('Hình ảnh là : Hoa mơ')\n",
        "if (Mon_an == 3) :\n",
        "  print('Hình ảnh là : Hoa cúc')\n",
        "if (Mon_an == 4) :\n",
        "  print('Hình ảnh là : Hoa hồng')\n",
        "\n"
      ],
      "metadata": {
        "colab": {
          "base_uri": "https://localhost:8080/",
          "height": 468
        },
        "id": "99ejLaHUSgoC",
        "outputId": "90f50ce3-bab0-4509-83e2-7522e3d6d468"
      },
      "execution_count": null,
      "outputs": [
        {
          "output_type": "display_data",
          "data": {
            "text/plain": [
              "<Figure size 640x480 with 1 Axes>"
            ],
            "image/png": "[encoded data removed]"
          },
          "metadata": {}
        },
        {
          "output_type": "stream",
          "name": "stdout",
          "text": [
            "1/1 [==============================] - 0s 18ms/step\n",
            "Hình ảnh là : Hoa cúc\n"
          ]
        }
      ]
    },
    {
      "cell_type": "code",
      "source": [],
      "metadata": {
        "id": "E2gtd2nwREby"
      },
      "execution_count": null,
      "outputs": []
    }
  ]
}