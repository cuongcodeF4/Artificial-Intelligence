{
  "nbformat": 4,
  "nbformat_minor": 0,
  "metadata": {
    "colab": {
      "provenance": [],
      "gpuType": "T4",
      "mount_file_id": "1Z9cuL86MYsSeoHuRRRp75RppQylIb825",
      "authorship_tag": "ABX9TyPRpUTMVdxwvMkvJ2pZCrsP",
      "include_colab_link": true
    },
    "kernelspec": {
      "name": "python3",
      "display_name": "Python 3"
    },
    "language_info": {
      "name": "python"
    },
    "accelerator": "GPU",
    "gpuClass": "standard"
  },
  "cells": [
    {
      "cell_type": "markdown",
      "metadata": {
        "id": "view-in-github",
        "colab_type": "text"
      },
      "source": [
        "<a href=\"https://colab.research.google.com/github/cuongcodeF4/Artificial-Intelligence/blob/main/KT_giuaki/10FoodVN.ipynb\" target=\"_parent\"><img src=\"https://colab.research.google.com/assets/colab-badge.svg\" alt=\"Open In Colab\"/></a>"
      ]
    },
    {
      "cell_type": "markdown",
      "source": [
        "I. Khai báo các thư viện cần thiết"
      ],
      "metadata": {
        "id": "eLa0OgvG7EOH"
      }
    },
    {
      "cell_type": "code",
      "execution_count": 39,
      "metadata": {
        "id": "jDPArBHs6-Wm"
      },
      "outputs": [],
      "source": [
        "from os import listdir\n",
        "from numpy import asarray\n",
        "from numpy import save\n",
        "from keras.utils.image_utils import img_to_array \n",
        "from keras.utils import load_img \n",
        "from numpy.lib.npyio import load\n",
        "import numpy as np"
      ]
    },
    {
      "cell_type": "code",
      "source": [
        "folder='/content/drive/MyDrive/Colab Notebooks/10FoodVN/Image/'\n",
        "photos,labels = list(),list()\n",
        "for file in listdir(folder):\n",
        "  if file.startswith('miquang'):\n",
        "    output = 0.0     \n",
        "  if file.startswith('comtam'):\n",
        "    output = 1.0    \n",
        "  if file.startswith('banhmi'):\n",
        "    output = 2.0    \n",
        "  if file.startswith('goicuon'):\n",
        "    output = 3.0    \n",
        "  if file.startswith('banhxeo'):\n",
        "    output = 4.0   \n",
        "  if file.startswith('buncha'):\n",
        "    output = 5.0   \n",
        "  if file.startswith('pho'):\n",
        "    output = 6.0  \n",
        "  if file.startswith('banhcuon'):\n",
        "    output = 7.0  \n",
        "  if file.startswith('che'):\n",
        "    output = 8.0  \n",
        "  if file.startswith('bunbo'):\n",
        "    output = 9.0  \n",
        "\n",
        "  photo = load_img(folder+file, target_size= (32,32))\n",
        "  photo = img_to_array(photo)\n",
        "  photos.append(photo)\n",
        "  labels.append(output)\n",
        "photos= asarray(photos)\n",
        "labels = asarray(labels)\n",
        "save('/content/drive/MyDrive/Colab Notebooks/10FoodVN/10FoodVN_photo.npy',photos)\n",
        "save('/content/drive/MyDrive/Colab Notebooks/10FoodVN/10FoodVN_label.npy',labels)"
      ],
      "metadata": {
        "id": "ADNkIfeV7CGn"
      },
      "execution_count": 40,
      "outputs": []
    },
    {
      "cell_type": "code",
      "source": [
        "photo = np.load('/content/drive/MyDrive/Colab Notebooks/10FoodVN/10FoodVN_photo.npy')\n",
        "label = np.load('/content/drive/MyDrive/Colab Notebooks/10FoodVN/10FoodVN_label.npy')"
      ],
      "metadata": {
        "id": "fO3j9Abp9HoO"
      },
      "execution_count": 41,
      "outputs": []
    },
    {
      "cell_type": "code",
      "source": [
        "split_sample = int(0.2*len(photo))\n",
        "(x_train,y_train) = photo[split_sample:],label[split_sample:]\n",
        "(x_test,y_test)= photo[:split_sample],label[:split_sample]"
      ],
      "metadata": {
        "id": "auyLtYZfAvzl"
      },
      "execution_count": 42,
      "outputs": []
    },
    {
      "cell_type": "code",
      "source": [
        "x_train.shape"
      ],
      "metadata": {
        "colab": {
          "base_uri": "https://localhost:8080/"
        },
        "id": "CwHJa6tfAvm7",
        "outputId": "5912a3c9-8f7d-4702-b942-5d66933792ce"
      },
      "execution_count": 43,
      "outputs": [
        {
          "output_type": "execute_result",
          "data": {
            "text/plain": [
              "(480, 32, 32, 3)"
            ]
          },
          "metadata": {},
          "execution_count": 43
        }
      ]
    },
    {
      "cell_type": "code",
      "source": [
        "x_test.shape"
      ],
      "metadata": {
        "colab": {
          "base_uri": "https://localhost:8080/"
        },
        "id": "uFg6jalGA2tF",
        "outputId": "6b345900-a5ce-4a3f-d947-36f0ad502b46"
      },
      "execution_count": 44,
      "outputs": [
        {
          "output_type": "execute_result",
          "data": {
            "text/plain": [
              "(120, 32, 32, 3)"
            ]
          },
          "metadata": {},
          "execution_count": 44
        }
      ]
    },
    {
      "cell_type": "code",
      "source": [
        "x_train = x_train.reshape(480,32,32,3)\n",
        "x_test = x_test.reshape(120,32,32,3)\n",
        "x_train = x_train.astype('float32')/255\n",
        "x_test = x_test.astype('float32')/255"
      ],
      "metadata": {
        "id": "ek0QZ-HnA7c8"
      },
      "execution_count": 45,
      "outputs": []
    },
    {
      "cell_type": "code",
      "source": [
        "# chuyển đổi các nhãn lớp của dữ liệu huấn luyện và kiểm tra thành các vectơ one-hot encoding.\n",
        "from keras.utils import to_categorical\n",
        "y_train = to_categorical(y_train,10)\n",
        "y_test  = to_categorical(y_test,10)"
      ],
      "metadata": {
        "id": "fsOCVpHgFjVo"
      },
      "execution_count": 46,
      "outputs": []
    },
    {
      "cell_type": "code",
      "source": [
        "from keras.models import Sequential , Model\n",
        "from keras.layers import Dense , Flatten, Dropout, Conv2D, MaxPooling2D ,Normalization,Input\n",
        "from keras.optimizers import Adam "
      ],
      "metadata": {
        "id": "9EP46ruMFmsA"
      },
      "execution_count": 47,
      "outputs": []
    },
    {
      "cell_type": "code",
      "source": [
        "batch_size = 100  # số lượng học\n",
        "epochs = 40      #số lần học\n",
        "classes = 10"
      ],
      "metadata": {
        "id": "wqRUjfivFnyE"
      },
      "execution_count": 48,
      "outputs": []
    },
    {
      "cell_type": "code",
      "source": [
        "model=Sequential()\n",
        "model.add(Conv2D(32,kernel_size=(3,3),activation ='linear',input_shape= (32,32,3),padding= 'same'))    # 32:số lần tích chập, (3,3): kích thước bộ lọc\n",
        "\n",
        "from keras.layers import LeakyReLU\n",
        "model.add(LeakyReLU(alpha= 0.1))\n",
        "model.add(MaxPooling2D((2,2), padding= 'same'))\n",
        "\n",
        "model.add(Conv2D(64,(3,3), activation= 'linear', padding= 'same'))\n",
        "model.add(LeakyReLU(alpha= 0.1))\n",
        "model.add(MaxPooling2D((2,2), padding= 'same'))\n",
        "\n",
        "model.add(Conv2D(128,(3,3), activation= 'linear', padding= 'same'))\n",
        "model.add(LeakyReLU(alpha= 0.1))\n",
        "model.add(MaxPooling2D((2,2), padding= 'same'))\n",
        "\n",
        "from keras.backend import categorical_crossentropy\n",
        "from keras.losses import categorical_crossentropy\n",
        "model.add(Flatten())  #Tín hiệu vào là tấm ảnh \n",
        "model.add(Dense(1024, activation= 'linear'))\n",
        "model.add(LeakyReLU(alpha= 0.1))\n",
        "model.add(Dense(512, activation= 'linear'))\n",
        "model.add(LeakyReLU(alpha= 0.1))\n",
        "model.add(Dense(128,activation='linear'))   #Đi qua 128 lớp\n",
        "model.add(LeakyReLU(alpha=0.1))\n",
        "model.add(Dense(classes,activation='softmax'))\n",
        "model.summary()"
      ],
      "metadata": {
        "colab": {
          "base_uri": "https://localhost:8080/"
        },
        "id": "suMQHlSvF03X",
        "outputId": "b5182666-ef19-4a7d-b02b-01daad7e28b1"
      },
      "execution_count": 49,
      "outputs": [
        {
          "output_type": "stream",
          "name": "stdout",
          "text": [
            "Model: \"sequential_3\"\n",
            "_________________________________________________________________\n",
            " Layer (type)                Output Shape              Param #   \n",
            "=================================================================\n",
            " conv2d_9 (Conv2D)           (None, 32, 32, 32)        896       \n",
            "                                                                 \n",
            " leaky_re_lu_18 (LeakyReLU)  (None, 32, 32, 32)        0         \n",
            "                                                                 \n",
            " max_pooling2d_9 (MaxPooling  (None, 16, 16, 32)       0         \n",
            " 2D)                                                             \n",
            "                                                                 \n",
            " conv2d_10 (Conv2D)          (None, 16, 16, 64)        18496     \n",
            "                                                                 \n",
            " leaky_re_lu_19 (LeakyReLU)  (None, 16, 16, 64)        0         \n",
            "                                                                 \n",
            " max_pooling2d_10 (MaxPoolin  (None, 8, 8, 64)         0         \n",
            " g2D)                                                            \n",
            "                                                                 \n",
            " conv2d_11 (Conv2D)          (None, 8, 8, 128)         73856     \n",
            "                                                                 \n",
            " leaky_re_lu_20 (LeakyReLU)  (None, 8, 8, 128)         0         \n",
            "                                                                 \n",
            " max_pooling2d_11 (MaxPoolin  (None, 4, 4, 128)        0         \n",
            " g2D)                                                            \n",
            "                                                                 \n",
            " flatten_3 (Flatten)         (None, 2048)              0         \n",
            "                                                                 \n",
            " dense_12 (Dense)            (None, 1024)              2098176   \n",
            "                                                                 \n",
            " leaky_re_lu_21 (LeakyReLU)  (None, 1024)              0         \n",
            "                                                                 \n",
            " dense_13 (Dense)            (None, 512)               524800    \n",
            "                                                                 \n",
            " leaky_re_lu_22 (LeakyReLU)  (None, 512)               0         \n",
            "                                                                 \n",
            " dense_14 (Dense)            (None, 128)               65664     \n",
            "                                                                 \n",
            " leaky_re_lu_23 (LeakyReLU)  (None, 128)               0         \n",
            "                                                                 \n",
            " dense_15 (Dense)            (None, 10)                1290      \n",
            "                                                                 \n",
            "=================================================================\n",
            "Total params: 2,783,178\n",
            "Trainable params: 2,783,178\n",
            "Non-trainable params: 0\n",
            "_________________________________________________________________\n"
          ]
        }
      ]
    },
    {
      "cell_type": "code",
      "source": [
        "from keras.models import load_model\n",
        "# Tải mô hình từ file đã lưu\n",
        "model = load_model('/content/drive/MyDrive/Colab Notebooks/10FoodVN/10FoodVN.h5')"
      ],
      "metadata": {
        "id": "sSgrNcIKMXUZ"
      },
      "execution_count": 49,
      "outputs": []
    },
    {
      "cell_type": "code",
      "source": [
        "model.compile(loss= categorical_crossentropy,optimizer= Adam(),metrics=['accuracy'])\n",
        "train = model.fit(x_train,y_train,batch_size= batch_size,epochs=epochs,verbose =1)      # verbose=1,Hiển thị giá trị train, chỉ xuất hiện 1 lần rồi biến mất"
      ],
      "metadata": {
        "colab": {
          "base_uri": "https://localhost:8080/"
        },
        "id": "fR3tdO1vF5mG",
        "outputId": "450b827b-a090-4c8b-bebf-7d4ed43fae6e"
      },
      "execution_count": 50,
      "outputs": [
        {
          "output_type": "stream",
          "name": "stdout",
          "text": [
            "Epoch 1/40\n",
            "5/5 [==============================] - 9s 62ms/step - loss: 2.2319 - accuracy: 0.0771\n",
            "Epoch 2/40\n",
            "5/5 [==============================] - 0s 7ms/step - loss: 2.1375 - accuracy: 0.1312\n",
            "Epoch 3/40\n",
            "5/5 [==============================] - 0s 8ms/step - loss: 2.0017 - accuracy: 0.2208\n",
            "Epoch 4/40\n",
            "5/5 [==============================] - 0s 7ms/step - loss: 1.8672 - accuracy: 0.2417\n",
            "Epoch 5/40\n",
            "5/5 [==============================] - 0s 7ms/step - loss: 1.7608 - accuracy: 0.3313\n",
            "Epoch 6/40\n",
            "5/5 [==============================] - 0s 7ms/step - loss: 1.7099 - accuracy: 0.3417\n",
            "Epoch 7/40\n",
            "5/5 [==============================] - 0s 7ms/step - loss: 1.6096 - accuracy: 0.3729\n",
            "Epoch 8/40\n",
            "5/5 [==============================] - 0s 7ms/step - loss: 1.5326 - accuracy: 0.4104\n",
            "Epoch 9/40\n",
            "5/5 [==============================] - 0s 7ms/step - loss: 1.4155 - accuracy: 0.4875\n",
            "Epoch 10/40\n",
            "5/5 [==============================] - 0s 8ms/step - loss: 1.3558 - accuracy: 0.4896\n",
            "Epoch 11/40\n",
            "5/5 [==============================] - 0s 7ms/step - loss: 1.2262 - accuracy: 0.5437\n",
            "Epoch 12/40\n",
            "5/5 [==============================] - 0s 9ms/step - loss: 1.0970 - accuracy: 0.6021\n",
            "Epoch 13/40\n",
            "5/5 [==============================] - 0s 8ms/step - loss: 0.8882 - accuracy: 0.7021\n",
            "Epoch 14/40\n",
            "5/5 [==============================] - 0s 7ms/step - loss: 0.9646 - accuracy: 0.6375\n",
            "Epoch 15/40\n",
            "5/5 [==============================] - 0s 7ms/step - loss: 0.8436 - accuracy: 0.7229\n",
            "Epoch 16/40\n",
            "5/5 [==============================] - 0s 7ms/step - loss: 0.6586 - accuracy: 0.7875\n",
            "Epoch 17/40\n",
            "5/5 [==============================] - 0s 8ms/step - loss: 0.5757 - accuracy: 0.8000\n",
            "Epoch 18/40\n",
            "5/5 [==============================] - 0s 7ms/step - loss: 0.4207 - accuracy: 0.8687\n",
            "Epoch 19/40\n",
            "5/5 [==============================] - 0s 7ms/step - loss: 0.3132 - accuracy: 0.9021\n",
            "Epoch 20/40\n",
            "5/5 [==============================] - 0s 7ms/step - loss: 0.2446 - accuracy: 0.9229\n",
            "Epoch 21/40\n",
            "5/5 [==============================] - 0s 7ms/step - loss: 0.1429 - accuracy: 0.9729\n",
            "Epoch 22/40\n",
            "5/5 [==============================] - 0s 7ms/step - loss: 0.1172 - accuracy: 0.9688\n",
            "Epoch 23/40\n",
            "5/5 [==============================] - 0s 7ms/step - loss: 0.0961 - accuracy: 0.9750\n",
            "Epoch 24/40\n",
            "5/5 [==============================] - 0s 7ms/step - loss: 0.0579 - accuracy: 0.9937\n",
            "Epoch 25/40\n",
            "5/5 [==============================] - 0s 8ms/step - loss: 0.0619 - accuracy: 0.9812\n",
            "Epoch 26/40\n",
            "5/5 [==============================] - 0s 7ms/step - loss: 0.0618 - accuracy: 0.9875\n",
            "Epoch 27/40\n",
            "5/5 [==============================] - 0s 7ms/step - loss: 0.0397 - accuracy: 0.9937\n",
            "Epoch 28/40\n",
            "5/5 [==============================] - 0s 7ms/step - loss: 0.0222 - accuracy: 0.9979\n",
            "Epoch 29/40\n",
            "5/5 [==============================] - 0s 7ms/step - loss: 0.0104 - accuracy: 1.0000\n",
            "Epoch 30/40\n",
            "5/5 [==============================] - 0s 7ms/step - loss: 0.0088 - accuracy: 0.9979\n",
            "Epoch 31/40\n",
            "5/5 [==============================] - 0s 8ms/step - loss: 0.0063 - accuracy: 0.9979\n",
            "Epoch 32/40\n",
            "5/5 [==============================] - 0s 9ms/step - loss: 0.0035 - accuracy: 1.0000\n",
            "Epoch 33/40\n",
            "5/5 [==============================] - 0s 8ms/step - loss: 0.0024 - accuracy: 1.0000\n",
            "Epoch 34/40\n",
            "5/5 [==============================] - 0s 7ms/step - loss: 0.0022 - accuracy: 1.0000\n",
            "Epoch 35/40\n",
            "5/5 [==============================] - 0s 7ms/step - loss: 9.2443e-04 - accuracy: 1.0000\n",
            "Epoch 36/40\n",
            "5/5 [==============================] - 0s 9ms/step - loss: 0.0017 - accuracy: 1.0000\n",
            "Epoch 37/40\n",
            "5/5 [==============================] - 0s 8ms/step - loss: 5.5115e-04 - accuracy: 1.0000\n",
            "Epoch 38/40\n",
            "5/5 [==============================] - 0s 7ms/step - loss: 6.4460e-04 - accuracy: 1.0000\n",
            "Epoch 39/40\n",
            "5/5 [==============================] - 0s 7ms/step - loss: 4.8718e-04 - accuracy: 1.0000\n",
            "Epoch 40/40\n",
            "5/5 [==============================] - 0s 7ms/step - loss: 3.6795e-04 - accuracy: 1.0000\n"
          ]
        }
      ]
    },
    {
      "cell_type": "code",
      "source": [
        "model.save('/content/drive/MyDrive/Colab Notebooks/10FoodVN/10FoodVN.h5')"
      ],
      "metadata": {
        "id": "ZPQGp-rRF9_d"
      },
      "execution_count": 51,
      "outputs": []
    },
    {
      "cell_type": "code",
      "source": [
        "import matplotlib.pyplot as plt\n",
        "eval = model.evaluate(x_test,y_test,verbose=0)\n",
        "print('Test loss:', eval[0])\n",
        "print('Test accuracy;',eval[1])\n",
        "accuracy = train.history['accuracy']\n",
        "val_accuracy = train.history['loss']\n",
        "epochs = range(len(accuracy))\n",
        "plt.plot(epochs,accuracy,'bo',label='Training Accuracy')\n",
        "plt.plot(epochs,val_accuracy,'b',label= 'Test Accuracy')\n",
        "plt.title('Training & Test Accuracy')"
      ],
      "metadata": {
        "colab": {
          "base_uri": "https://localhost:8080/",
          "height": 506
        },
        "id": "2fmZDuGHBbcS",
        "outputId": "b5cdee6a-ad38-4de7-a49b-5f7973e07d55"
      },
      "execution_count": 52,
      "outputs": [
        {
          "output_type": "stream",
          "name": "stdout",
          "text": [
            "Test loss: 13.622212409973145\n",
            "Test accuracy; 0.06666667014360428\n"
          ]
        },
        {
          "output_type": "execute_result",
          "data": {
            "text/plain": [
              "Text(0.5, 1.0, 'Training & Test Accuracy')"
            ]
          },
          "metadata": {},
          "execution_count": 52
        },
        {
          "output_type": "display_data",
          "data": {
            "text/plain": [
              "<Figure size 640x480 with 1 Axes>"
            ],
            "image/png": "[encoded data removed]"
          },
          "metadata": {}
        }
      ]
    },
    {
      "cell_type": "code",
      "source": [
        "import matplotlib.pyplot as plt\n",
        "from keras.utils.image_utils import img_to_array \n",
        "from keras.utils import load_img \n",
        "import numpy as np\n",
        "img = load_img('/content/drive/MyDrive/Colab Notebooks/10FoodVN/Test_image/Goicuon.jpg',target_size=(32,32))\n",
        "plt.imshow(img)\n",
        "plt.show()\n",
        "img= img_to_array(img)\n",
        "img =img.reshape(1,32,32,3)\n",
        "img = img.astype('float32')\n",
        "img = img /255\n",
        "Mon_an=np.argmax(model.predict(img),axis=-1)\n",
        "mon = [' Mì quảng','Cơm tấm','Bánh mì','Gỏi cuốn','Bánh Xèo','Bún chả','Phở','Bánh cuốn','Chè','Bún bò']\n",
        "for i in range(10):\n",
        "  if Mon_an==i:\n",
        "    print(mon[i])\n",
        "\n"
      ],
      "metadata": {
        "colab": {
          "base_uri": "https://localhost:8080/",
          "height": 466
        },
        "id": "mmfUdkgXHFYj",
        "outputId": "a2cbf677-a1dd-401d-84ce-19e6237bad02"
      },
      "execution_count": 56,
      "outputs": [
        {
          "output_type": "display_data",
          "data": {
            "text/plain": [
              "<Figure size 640x480 with 1 Axes>"
            ],
            "image/png": "[encoded data removed]"
          },
          "metadata": {}
        },
        {
          "output_type": "stream",
          "name": "stdout",
          "text": [
            "1/1 [==============================] - 0s 18ms/step\n",
            "Gỏi cuốn\n"
          ]
        }
      ]
    },
    {
      "cell_type": "code",
      "source": [],
      "metadata": {
        "id": "Rp7dxzb-IsHE"
      },
      "execution_count": 53,
      "outputs": []
    }
  ]
}